{
 "cells": [
  {
   "cell_type": "markdown",
   "metadata": {},
   "source": [
    "# List out Deployments and Quota\n",
    "This will create a list of deployments from Azure OpenAI with the usage (Quota). Thanks [@ssemyan](https://github.com/ssemyan) for the start of this"
   ]
  },
  {
   "cell_type": "code",
   "execution_count": 31,
   "metadata": {},
   "outputs": [],
   "source": [
    "import requests,json\n",
    "from azure.identity import DefaultAzureCredential\n",
    "import csv\n",
    "\n",
    "\n",
    "# Use your credentials to access the subscriptions\n",
    "api = \"https://management.azure.com/.default\"\n",
    "credential = DefaultAzureCredential()\n",
    "access_token = credential.get_token(api) \n",
    "header = {'Authorization': f'Bearer {access_token.token}'}"
   ]
  },
  {
   "cell_type": "code",
   "execution_count": 32,
   "metadata": {},
   "outputs": [],
   "source": [
    "#Get a list of subscriptions\n",
    "subs = requests.get('https://management.azure.com/subscriptions?api-version=2022-12-01',headers=header).json()"
   ]
  },
  {
   "cell_type": "markdown",
   "metadata": {},
   "source": [
    "# Quota and Deployment\n",
    "Quota is by Subscription and Region and Model so notice how this grabs that quota per Subscription\n",
    "\n",
    "> This does tend to timeout or connection error so you might see that too\n",
    "\n",
    "> NOTE: Quota is not directly tied to deployments so you really need to look at both separately"
   ]
  },
  {
   "cell_type": "code",
   "execution_count": null,
   "metadata": {},
   "outputs": [],
   "source": [
    "items=[]\n",
    "quotas=[]\n",
    "for sub in subs['value']:\n",
    "    subId=sub['subscriptionId']\n",
    "\n",
    "    locations = requests.get(f\"https://management.azure.com/subscriptions/{subId}/locations?api-version=2022-12-01\",headers=header).json()\n",
    "\n",
    "    quota={}\n",
    "    # Get the quota by the sub and locations\n",
    "    for loc in locations['value']:\n",
    "        location=loc['name']\n",
    "        if location in quota:\n",
    "            continue\n",
    "        else:\n",
    "            quota[location]={}\n",
    "            try:\n",
    "                usages = requests.get(f\"https://management.azure.com/subscriptions/{subId}/providers/Microsoft.CognitiveServices/locations/{location}/usages?api-version=2023-05-01\",headers=header,timeout=5).json()\n",
    "                for usage in usages['value']:\n",
    "                    if usage['name']['value'].startswith(\"OpenAI.Standard.\"):\n",
    "                        quota_name = usage['name']['value'].replace(\"OpenAI.Standard.\", \"\").lower()\n",
    "                        quota[location][quota_name] = usage['limit']       \n",
    "                        quotas.append({'subscriptionId':subId,'location':location,'quota':quota_name,'limit':usage['limit'],'currentValue':usage['currentValue']})     \n",
    "            except:\n",
    "                # A lot of locations don't have quotas\n",
    "                # print(f\"Error getting quota for {subId} in {location}\")\n",
    "                continue\n",
    "    \n",
    "    # Get Resource Groups\n",
    "    uri=f\"https://management.azure.com/subscriptions/{subId}/resourceGroups?api-version=2022-12-01\"\n",
    "    rgs = requests.get(f\"https://management.azure.com/subscriptions/{subId}/resourceGroups?api-version=2022-12-01\",headers=header).json()\n",
    "    for rg in rgs['value']:\n",
    "        resourceGroupName=rg['name']\n",
    "        usage_lookup = {}\n",
    "\n",
    "        print(\"rg=\",rg['name'])\n",
    "\n",
    "        # get a list of accounts\n",
    "        accounts = requests.get(f\"https://management.azure.com/subscriptions/{subId}/resourceGroups/{resourceGroupName}/providers/Microsoft.CognitiveServices/accounts?api-version=2023-05-01\",headers=header).json()\n",
    "        for account in accounts['value']:\n",
    "            accountName=account['name']\n",
    "            # Actual resource might be in a different location than the resource group\n",
    "            location=account['location']\n",
    "\n",
    "            print(f\"Account: {accountName} Location: {location}\")\n",
    "            \n",
    "            deployments = requests.get(f\"https://management.azure.com/subscriptions/{subId}/resourceGroups/{resourceGroupName}/providers/Microsoft.CognitiveServices/accounts/{accountName}/deployments?api-version=2023-05-01\",headers=header).json()\n",
    "            for deployment in deployments['value']:\n",
    "\n",
    "                name=deployment['name']\n",
    "                model=deployment['properties']['model']['name']\n",
    "                version=deployment['properties']['model']['version']\n",
    "                for rl in deployment['properties']['rateLimits']:\n",
    "                    if rl['key'] == 'token':\n",
    "                        tpm = rl['count']\n",
    "\n",
    "                qt=None\n",
    "                if location in quota:\n",
    "                    if model in quota[location]:\n",
    "                        qt = quota[location][model]*1000\n",
    "                items.append({'subscriptionId':subId,'resourceGroupName':resourceGroupName,'accountName':accountName,'deploymentName':name,'model':model,'tpm':tpm,'quota':qt,'location':location,'version':version})\n"
   ]
  },
  {
   "cell_type": "code",
   "execution_count": 37,
   "metadata": {},
   "outputs": [],
   "source": [
    "# Output this to a tab delimited file\n",
    "fieldnames = ['subscriptionId','resourceGroupName','accountName','deploymentName','model','tpm','quota','location','version']\n",
    "with open('deployments.csv', 'w') as file:\n",
    "    writer = csv.DictWriter(file, fieldnames=fieldnames,delimiter='\\t')\n",
    "    writer.writeheader()\n",
    "    writer.writerows(items)\n"
   ]
  },
  {
   "cell_type": "code",
   "execution_count": 34,
   "metadata": {},
   "outputs": [],
   "source": [
    "# Output quotas to a tab delimited file\n",
    "fieldnames = ['subscriptionId','location','quota','limit','currentValue']\n",
    "with open('quotas.csv', 'w') as file:\n",
    "    writer = csv.DictWriter(file, fieldnames=fieldnames,delimiter='\\t')\n",
    "    writer.writeheader()\n",
    "    writer.writerows(quotas)\n",
    "\n"
   ]
  },
  {
   "cell_type": "markdown",
   "metadata": {},
   "source": [
    "# Combine and conquer\n",
    "Take the output from the two files and use some `=SUMIFS()` logic to show quota used versus what is still available\n",
    "\n",
    "> Note: You do get `currentValue` in the Quota/Usages so there is a quick place to look to see how much is being used. Comparing Deployments to Usage is not straight forward, wish it was "
   ]
  }
 ],
 "metadata": {
  "kernelspec": {
   "display_name": "ai102",
   "language": "python",
   "name": "python3"
  },
  "language_info": {
   "codemirror_mode": {
    "name": "ipython",
    "version": 3
   },
   "file_extension": ".py",
   "mimetype": "text/x-python",
   "name": "python",
   "nbconvert_exporter": "python",
   "pygments_lexer": "ipython3",
   "version": "3.10.9"
  }
 },
 "nbformat": 4,
 "nbformat_minor": 2
}
