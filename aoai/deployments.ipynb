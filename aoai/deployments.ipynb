{
 "cells": [
  {
   "cell_type": "markdown",
   "metadata": {},
   "source": [
    "# List out Deployments and Quota\n",
    "This will create a list of deployments from Azure OpenAI with the usage (Quota). Thanks @ssemyan for the start of this"
   ]
  },
  {
   "cell_type": "code",
   "execution_count": null,
   "metadata": {},
   "outputs": [],
   "source": [
    "import os,requests,json\n",
    "from azure.identity import DefaultAzureCredential\n",
    "\n",
    "# Use your credentials to access the subscriptions\n",
    "api = \"https://management.azure.com/.default\"\n",
    "credential = DefaultAzureCredential()\n",
    "access_token = credential.get_token(api) \n",
    "header = {'Authorization': f'Bearer {access_token.token}'}"
   ]
  },
  {
   "cell_type": "code",
   "execution_count": null,
   "metadata": {},
   "outputs": [],
   "source": [
    "#Get a list of subscriptions\n",
    "subs = requests.get('https://management.azure.com/subscriptions?api-version=2022-12-01',headers=header).json()"
   ]
  },
  {
   "cell_type": "markdown",
   "metadata": {},
   "source": [
    "# Quota and Deployment\n",
    "Quota is by Subscription and Region and Model so notice how this grabs that quota per Subscription\n",
    "\n",
    "> This does tend to timeout or connection error so you might see that too"
   ]
  },
  {
   "cell_type": "code",
   "execution_count": 6,
   "metadata": {},
   "outputs": [],
   "source": [
    "# Hardcoded to the list of available regions for AOAI\n",
    "locations=['australiaeast','canadaeast','eastus','eastus2','francecentral','japaneast','northcentralus','southcentralus','swedencentral','switzerlandnorth','uksouth','westeurope']\n"
   ]
  },
  {
   "cell_type": "code",
   "execution_count": null,
   "metadata": {},
   "outputs": [],
   "source": [
    "items=[]\n",
    "for sub in subs['value']:\n",
    "    subId=sub['subscriptionId']\n",
    "\n",
    "    quota={}\n",
    "    # Get the quota by the sub and locations\n",
    "    for location in locations:\n",
    "        if location in quota:\n",
    "            continue\n",
    "        else:\n",
    "            quota[location]={}\n",
    "            usages = requests.get(f\"https://management.azure.com/subscriptions/{subId}/providers/Microsoft.CognitiveServices/locations/{location}/usages?api-version=2023-05-01\",headers=header).json()\n",
    "            for usage in usages['value']:\n",
    "                if usage['name']['value'].startswith(\"OpenAI.Standard.\"):\n",
    "                    quota_name = usage['name']['value'].replace(\"OpenAI.Standard.\", \"\").lower()\n",
    "                    quota[location][quota_name] = usage['limit']\n",
    "\n",
    "    uri=f\"https://management.azure.com/subscriptions/{subId}/resourceGroups?api-version=2022-12-01\"\n",
    "    rgs = requests.get(f\"https://management.azure.com/subscriptions/{subId}/resourceGroups?api-version=2022-12-01\",headers=header).json()\n",
    "    for rg in rgs['value']:\n",
    "        resourceGroupName=rg['name']\n",
    "        location=rg['location']\n",
    "        usage_lookup = {}\n",
    "\n",
    "        print(\"rg=\",rg['name'],rg['location'])\n",
    "\n",
    "        # get a list of accounts\n",
    "        accounts = requests.get(f\"https://management.azure.com/subscriptions/{subId}/resourceGroups/{resourceGroupName}/providers/Microsoft.CognitiveServices/accounts?api-version=2023-05-01\",headers=header).json()\n",
    "        for account in accounts['value']:\n",
    "            accountName=account['name']\n",
    "            print(f\"Account: {accountName}\")\n",
    "            \n",
    "            deployments = requests.get(f\"https://management.azure.com/subscriptions/{subId}/resourceGroups/{resourceGroupName}/providers/Microsoft.CognitiveServices/accounts/{accountName}/deployments?api-version=2023-05-01\",headers=header).json()\n",
    "            for deployment in deployments['value']:\n",
    "\n",
    "                name=deployment['name']\n",
    "                model=deployment['properties']['model']['name']\n",
    "                for rl in deployment['properties']['rateLimits']:\n",
    "                    if rl['key'] == 'token':\n",
    "                        tpm = rl['count']\n",
    "\n",
    "                qt=None\n",
    "                if location in quota:\n",
    "                    if model in quota[location]:\n",
    "                        qt = quota[location][model]*1000\n",
    "                items.append({'subscriptionId':subId,'resourceGroupName':resourceGroupName,'accountName':accountName,'deploymentName':name,'model':model,'tpm':tpm,'quota':qt,'location':location})\n"
   ]
  },
  {
   "cell_type": "code",
   "execution_count": null,
   "metadata": {},
   "outputs": [],
   "source": [
    "# Output this to a tab delimited file\n",
    "with open('models.csv', 'w') as file:\n",
    "    for item in items:\n",
    "        file.write(f\"{item['subscriptionId']}\\t{item['resourceGroupName']}\\t{item['accountName']}\\t{item['deploymentName']}\\t{item['model']}\\t{item['tpm']}\\t{item['quota']}\\t{item['location']}\\n\")\n"
   ]
  }
 ],
 "metadata": {
  "kernelspec": {
   "display_name": "ai102",
   "language": "python",
   "name": "python3"
  },
  "language_info": {
   "codemirror_mode": {
    "name": "ipython",
    "version": 3
   },
   "file_extension": ".py",
   "mimetype": "text/x-python",
   "name": "python",
   "nbconvert_exporter": "python",
   "pygments_lexer": "ipython3",
   "version": "3.10.9"
  }
 },
 "nbformat": 4,
 "nbformat_minor": 2
}
