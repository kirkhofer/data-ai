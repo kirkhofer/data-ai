{
 "cells": [
  {
   "cell_type": "markdown",
   "metadata": {},
   "source": [
    "# Assistants with a File\n",
    "This example uses the new assistants API to ask questions about a file. The file in this case is just a CSV created using, you guessed it, GPT 4. \n",
    "\n",
    "Create your `.env` file with the keys needed:\n",
    "```text\n",
    "AOAI_ENDPOINT=https://<azure resource here>.openai.azure.com/\n",
    "AOAI_KEY=99999999\n",
    "```\n",
    "\n",
    "Create the `movies.csv` or use mine:\n",
    "1. Open up the `Chat` interface in https://oai.azure.com and use the following\n",
    "    - Prompt: Generate me a list ficticious movies with a name column and a rating column. Output in CSV format\n",
    "1. Paste the output into the `movies.csv` file\n",
    "\n",
    "Here is how it works:\n",
    "1. Add the file to Azure OpenAI\n",
    "1. Create an assistant and reference the file\n",
    "    > NOTE: I never tell it the format of the file\n",
    "1. Create a thread\n",
    "    - 1 per sessions\n",
    "1. Ask questions and look at the runs\n",
    "1. Delete the file\n",
    "\n",
    "You could easily use this to generate images and output. Just need to capture the `file_ids` with each response"
   ]
  },
  {
   "cell_type": "code",
   "execution_count": 2,
   "metadata": {},
   "outputs": [
    {
     "data": {
      "text/plain": [
       "True"
      ]
     },
     "execution_count": 2,
     "metadata": {},
     "output_type": "execute_result"
    }
   ],
   "source": [
    "import os\n",
    "import json\n",
    "from dotenv import load_dotenv\n",
    "import requests\n",
    "import time\n",
    "\n",
    "# Load the .env file into the environment\n",
    "load_dotenv()"
   ]
  },
  {
   "cell_type": "code",
   "execution_count": 3,
   "metadata": {},
   "outputs": [],
   "source": [
    "# Set up the variables\n",
    "endpoint=os.getenv('AOAI_ENDPOINT')\n",
    "key=os.getenv('AOAI_KEY')\n",
    "# Enter your deployment name here\n",
    "model='gpt-4-turbo'\n",
    "\n",
    "headers = {}\n",
    "headers['api-key']=key\n",
    "headers['Content-Type']='application/json'"
   ]
  },
  {
   "cell_type": "code",
   "execution_count": 4,
   "metadata": {},
   "outputs": [
    {
     "name": "stdout",
     "output_type": "stream",
     "text": [
      "200\n",
      "{'object': 'file', 'id': 'assistant-3WqllhlWgSzB2mL9RYoaHZcL', 'purpose': 'assistants', 'filename': 'movies.csv', 'bytes': 660, 'created_at': 1707184604, 'status': 'processed', 'status_details': None}\n"
     ]
    }
   ],
   "source": [
    "form_header={'api-key': key}\n",
    "\n",
    "files = {\n",
    "    'file': ('movies.csv', open('movies.csv', 'rb')),\n",
    "    'purpose': (None, 'assistants')\n",
    "}\n",
    "url=f\"{endpoint}openai/files?api-version=2024-02-15-preview\"\n",
    "response=requests.post(url,files=files,headers=form_header)\n",
    "print(response.status_code)\n",
    "if response.status_code == 200:\n",
    "    upload_response = response.json()\n",
    "    print(upload_response)\n",
    "    file_id=upload_response['id']\n",
    "    print(\"File ID: \",file_id)"
   ]
  },
  {
   "cell_type": "code",
   "execution_count": 6,
   "metadata": {},
   "outputs": [
    {
     "name": "stdout",
     "output_type": "stream",
     "text": [
      "{'instructions': 'You are a movie analyst. When asked a question, you will parse your CSV file to provide the requested analysis.', 'name': 'Movie Assistant', 'tools': [{'type': 'code_interpreter'}], 'model': 'gpt-4-turbo', 'file_ids': ['assistant-3WqllhlWgSzB2mL9RYoaHZcL']}\n",
      "200\n",
      "{'id': 'asst_RJS82ktjDssVR7s5HlQeLPMa', 'object': 'assistant', 'created_at': 1707184626, 'name': 'Movie Assistant', 'description': None, 'model': 'gpt-4-turbo', 'instructions': 'You are a movie analyst. When asked a question, you will parse your CSV file to provide the requested analysis.', 'tools': [{'type': 'code_interpreter'}], 'file_ids': ['assistant-3WqllhlWgSzB2mL9RYoaHZcL'], 'metadata': {}}\n",
      "Assistant ID:  asst_RJS82ktjDssVR7s5HlQeLPMa\n"
     ]
    }
   ],
   "source": [
    "# Create the assistant\n",
    "data={\n",
    "  \"instructions\": \"You are a movie analyst. When asked a question, you will parse your CSV file to provide the requested analysis.\",\n",
    "  \"name\": \"Movie Assistant\",\n",
    "  \"tools\": [{\"type\": \"code_interpreter\"}],\n",
    "  \"model\": f\"{model}\",\n",
    "  \"file_ids\": [f\"{file_id}\"]\n",
    "}\n",
    "print(data)\n",
    "url=f\"{endpoint}openai/assistants?api-version=2024-02-15-preview\"\n",
    "response=requests.post(url,json=data,headers=headers)\n",
    "print(response.status_code)\n",
    "if response.status_code == 200:\n",
    "  print(response.json())\n",
    "  assistant_id=response.json()['id']\n",
    "  print(\"Assistant ID: \",assistant_id)\n"
   ]
  },
  {
   "cell_type": "code",
   "execution_count": 7,
   "metadata": {},
   "outputs": [
    {
     "name": "stdout",
     "output_type": "stream",
     "text": [
      "200\n",
      "{'id': 'thread_GfHH0MUe3eeYqk3ekqX5QU71', 'object': 'thread', 'created_at': 1707184646, 'metadata': {}}\n",
      "Thread ID:  thread_GfHH0MUe3eeYqk3ekqX5QU71\n"
     ]
    }
   ],
   "source": [
    "# Create the thread\n",
    "url=f\"{endpoint}openai/threads?api-version=2024-02-15-preview\"\n",
    "response=requests.post(url,headers=headers)\n",
    "print(response.status_code)\n",
    "if response.status_code == 200:\n",
    "  print(response.json())\n",
    "  thread_id=response.json()['id']\n",
    "  print(\"Thread ID: \",thread_id)\n"
   ]
  },
  {
   "cell_type": "markdown",
   "metadata": {},
   "source": [
    "## Define the reusable functions"
   ]
  },
  {
   "cell_type": "code",
   "execution_count": 12,
   "metadata": {},
   "outputs": [],
   "source": [
    "def output_status():\n",
    "  url=f\"{endpoint}openai/threads/{thread_id}/messages?api-version=2024-02-15-preview\"\n",
    "  response=requests.get(url,headers=headers)\n",
    "  output = response.json()\n",
    "  # print(json.dumps(output, indent=2))\n",
    "  for message in reversed(output['data']):\n",
    "    print(message['role'], \":\", message['content'][0]['text']['value'])\n",
    "\n",
    "def ask_a_question(content:str):\n",
    "  # Ask a question\n",
    "  data={\n",
    "    \"role\": \"user\",\n",
    "    \"content\": content\n",
    "  }\n",
    "  url=f\"{endpoint}openai/threads/{thread_id}/messages?api-version=2024-02-15-preview\"\n",
    "  response=requests.post(url,json=data,headers=headers)\n",
    "  # print(response.status_code)\n",
    "\n",
    "  # Run the request\n",
    "  data = {\n",
    "    \"assistant_id\": f\"{assistant_id}\"\n",
    "  }\n",
    "\n",
    "  url=f\"{endpoint}openai/threads/{thread_id}/runs?api-version=2024-02-15-preview\"\n",
    "  response=requests.post(url,json=data,headers=headers)\n",
    "  if response.status_code == 200:\n",
    "    # print(response.json())\n",
    "    run_id = response.json()['id']\n",
    "    # print(\"Run ID: \",run_id)\n",
    "\n",
    "  while True:\n",
    "    # Check the status and wait for completion\n",
    "    url=f\"{endpoint}openai/threads/{thread_id}/runs/{run_id}?api-version=2024-02-15-preview\"\n",
    "    response=requests.get(url,headers=headers)\n",
    "    output=response.json()\n",
    "    if output['status'] != 'completed':\n",
    "      # sleep for 1 second\n",
    "      # print(\"Sleeping for 2 second\")\n",
    "      time.sleep(2)\n",
    "    else:\n",
    "      break\n",
    "    \n",
    "  output_status()\n"
   ]
  },
  {
   "cell_type": "code",
   "execution_count": 9,
   "metadata": {},
   "outputs": [
    {
     "name": "stdout",
     "output_type": "stream",
     "text": [
      "Run ID:  run_zh3sgu3RWnRi6Sr9Q9MUJWbp\n",
      "Sleeping for 2 second\n",
      "Sleeping for 2 second\n",
      "Sleeping for 2 second\n",
      "Sleeping for 2 second\n",
      "Sleeping for 2 second\n",
      "Sleeping for 2 second\n",
      "user : What was the highest rated movie?\n",
      "assistant : The highest rated movie in the dataset is \"Shadows of Tomorrow\" with a rating of 9.1.\n"
     ]
    }
   ],
   "source": [
    "ask_a_question(\"What was the highest rated movie?\")"
   ]
  },
  {
   "cell_type": "code",
   "execution_count": 11,
   "metadata": {},
   "outputs": [
    {
     "name": "stdout",
     "output_type": "stream",
     "text": [
      "Sleeping for 2 second\n",
      "Sleeping for 2 second\n",
      "Sleeping for 2 second\n",
      "Sleeping for 2 second\n",
      "Sleeping for 2 second\n",
      "Sleeping for 2 second\n",
      "Sleeping for 2 second\n",
      "Sleeping for 2 second\n",
      "user : What was the highest rated movie?\n",
      "assistant : The highest rated movie in the dataset is \"Shadows of Tomorrow\" with a rating of 9.1.\n",
      "user : What are the top 5 movies by rating?\n",
      "assistant : The top 5 movies by rating are:\n",
      "\n",
      "1. \"Shadows of Tomorrow\" with a rating of 9.1\n",
      "2. \"Starlight Beyond Time\" with a rating of 9.0\n",
      "3. \"Secrets of the Alabaster Tower\" with a rating of 8.9\n",
      "4. \"The Whispering Echoes\" with a rating of 8.7\n",
      "5. \"Voyage through the Hidden Isles\" with a rating of 8.6.\n"
     ]
    }
   ],
   "source": [
    "ask_a_question(\"What are the top 5 movies by rating?\")"
   ]
  },
  {
   "cell_type": "code",
   "execution_count": 13,
   "metadata": {},
   "outputs": [
    {
     "name": "stdout",
     "output_type": "stream",
     "text": [
      "user : What was the highest rated movie?\n",
      "assistant : The highest rated movie in the dataset is \"Shadows of Tomorrow\" with a rating of 9.1.\n",
      "user : What are the top 5 movies by rating?\n",
      "assistant : The top 5 movies by rating are:\n",
      "\n",
      "1. \"Shadows of Tomorrow\" with a rating of 9.1\n",
      "2. \"Starlight Beyond Time\" with a rating of 9.0\n",
      "3. \"Secrets of the Alabaster Tower\" with a rating of 8.9\n",
      "4. \"The Whispering Echoes\" with a rating of 8.7\n",
      "5. \"Voyage through the Hidden Isles\" with a rating of 8.6.\n",
      "user : What is the average rating of the movies?\n",
      "assistant : The average rating of the movies is approximately 7.99.\n"
     ]
    }
   ],
   "source": [
    "ask_a_question(\"What is the average rating of the movies?\")\n"
   ]
  },
  {
   "cell_type": "code",
   "execution_count": null,
   "metadata": {},
   "outputs": [],
   "source": [
    "ask_a_question(\"What is the lowest rate movies?\")\n"
   ]
  },
  {
   "cell_type": "code",
   "execution_count": null,
   "metadata": {},
   "outputs": [],
   "source": [
    "ask_a_question(\"How many movies are there?\")\n"
   ]
  },
  {
   "cell_type": "code",
   "execution_count": null,
   "metadata": {},
   "outputs": [],
   "source": [
    "# Delete the file\n",
    "url=f\"{endpoint}openai/files/{file_id}?api-version=2024-02-15-preview\"\n",
    "response=requests.delete(url,headers=headers)"
   ]
  }
 ],
 "metadata": {
  "kernelspec": {
   "display_name": "ai102",
   "language": "python",
   "name": "python3"
  },
  "language_info": {
   "codemirror_mode": {
    "name": "ipython",
    "version": 3
   },
   "file_extension": ".py",
   "mimetype": "text/x-python",
   "name": "python",
   "nbconvert_exporter": "python",
   "pygments_lexer": "ipython3",
   "version": "3.10.9"
  }
 },
 "nbformat": 4,
 "nbformat_minor": 2
}
