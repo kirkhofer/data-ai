{
 "cells": [
  {
   "cell_type": "markdown",
   "metadata": {},
   "source": [
    "# Overview\n",
    "This is a take on the Assistants API version for [Movies Assistant](movie-assistant.ipynb) using the new Azure AI Agent Service. The service is structured like the Assistants API so one can easily convert the code\n",
    "\n",
    "Follow the steps to create the movies.csv:\n",
    "1. Open up the `Chat` interface in https://oai.azure.com and use the following\n",
    "    - Prompt: Generate me a list ficticious movies with a name column and a rating column. Output in CSV format\n",
    "1. Paste the output into the `movies.csv` file\n",
    "\n",
    "Here is my config for my conda env:\n",
    "```bash\n",
    "conda create -n agent python=3.13\n",
    "conda activate agent\n",
    "pip install azure-ai-projects\n",
    "pip install azure-identity\n",
    "pip install ipykernel\n",
    "pip install python-dotenv\n",
    "```\n",
    "\n",
    "What you need in the `.env` file:\n",
    "```text\n",
    "PROJECT_CONNECTION_STRING=<HostName>;<AzureSubscriptionId>;<ResourceGroup>;<ProjectName>\n",
    "```\n",
    "\n",
    "You can get this directly off the Overview of an Azure AI Project\n",
    "\n",
    "## References\n",
    "- https://learn.microsoft.com/en-us/azure/ai-services/agents/quickstart?pivots=programming-language-python-azure\n",
    "- https://github.com/Azure/azure-sdk-for-python/tree/main/sdk/ai/azure-ai-projects\n",
    "    - A ton of examples\n"
   ]
  },
  {
   "cell_type": "code",
   "execution_count": 5,
   "metadata": {},
   "outputs": [],
   "source": [
    "import os\n",
    "from azure.ai.projects import AIProjectClient\n",
    "from azure.ai.projects.models import FilePurpose\n",
    "from azure.ai.projects.models import CodeInterpreterTool\n",
    "from dotenv import load_dotenv\n",
    "from azure.identity import DefaultAzureCredential\n",
    "\n",
    "# Load the .env file into the environment\n",
    "_ = load_dotenv()"
   ]
  },
  {
   "cell_type": "code",
   "execution_count": 3,
   "metadata": {},
   "outputs": [],
   "source": [
    "conn_str=os.environ[\"PROJECT_CONNECTION_STRING\"]\n",
    "\n",
    "project_client = AIProjectClient.from_connection_string(\n",
    "    credential=DefaultAzureCredential(), conn_str=conn_str,\n",
    ")"
   ]
  },
  {
   "cell_type": "code",
   "execution_count": 6,
   "metadata": {},
   "outputs": [
    {
     "name": "stdout",
     "output_type": "stream",
     "text": [
      "Uploaded file, file ID: assistant-tFEsQscA4TfJWh91kba3PI8u\n"
     ]
    }
   ],
   "source": [
    "# Upload the file\n",
    "file = project_client.agents.upload_file_and_poll(\n",
    "    file_path='movies.csv', purpose=FilePurpose.AGENTS\n",
    ")\n",
    "print(f\"Uploaded file, file ID: {file.id}\")"
   ]
  },
  {
   "cell_type": "code",
   "execution_count": 7,
   "metadata": {},
   "outputs": [
    {
     "name": "stdout",
     "output_type": "stream",
     "text": [
      "Created agent, agent ID: asst_sh4SHLlw9YXwitx99ZsFWYJZ\n"
     ]
    }
   ],
   "source": [
    "# Create an instance of the CodeInterpreterTool\n",
    "code_interpreter = CodeInterpreterTool(file_ids=[file.id])\n",
    "\n",
    "# The CodeInterpreterTool needs to be included in creation of the agent\n",
    "agent = project_client.agents.create_agent(\n",
    "    model=\"gpt-4o-mini\",\n",
    "    name=\"movie agent\",\n",
    "    instructions=\"You are a movie analyst. When asked a question, you will parse your CSV file to provide the requested analysis.\",\n",
    "    tools=code_interpreter.definitions,\n",
    "    tool_resources=code_interpreter.resources,\n",
    ")\n",
    "print(f\"Created agent, agent ID: {agent.id}\")"
   ]
  },
  {
   "cell_type": "code",
   "execution_count": 10,
   "metadata": {},
   "outputs": [
    {
     "name": "stdout",
     "output_type": "stream",
     "text": [
      "Created thread, thread ID: thread_TbW7ErIzTw9p8vTvCawgqhd7\n"
     ]
    }
   ],
   "source": [
    "thread = project_client.agents.create_thread()\n",
    "print(f\"Created thread, thread ID: {thread.id}\")"
   ]
  },
  {
   "cell_type": "code",
   "execution_count": 8,
   "metadata": {},
   "outputs": [],
   "source": [
    "def ask_a_question(question: str):\n",
    "    message = project_client.agents.create_message(\n",
    "        thread_id=thread.id,\n",
    "        role=\"user\",\n",
    "        content=question,\n",
    "    )\n",
    "    print(f\"Created message, message ID: {message.id}\")\n",
    "\n",
    "    run = project_client.agents.create_and_process_run(thread_id=thread.id, assistant_id=agent.id)\n",
    "    print(f\"Run finished with status: {run.status}\")\n",
    "\n",
    "    if run.status == \"failed\":\n",
    "        # Check if you got \"Rate limit is exceeded.\", then you want to get more quota\n",
    "        print(f\"Run failed: {run.last_error}\")\n",
    "\n",
    "    messages = project_client.agents.list_messages(thread_id=thread.id)\n",
    "    print(f\"Messages: {messages}\")\n",
    "\n",
    "    last_msg = messages.get_last_text_message_by_sender(\"assistant\")\n",
    "    if last_msg:\n",
    "        print(f\"Last Message: {last_msg.text.value}\")\n"
   ]
  },
  {
   "cell_type": "code",
   "execution_count": 11,
   "metadata": {},
   "outputs": [
    {
     "name": "stdout",
     "output_type": "stream",
     "text": [
      "Created message, message ID: msg_wlZb3PDMIg7E6OVxkX5QL0q4\n",
      "Run finished with status: RunStatus.COMPLETED\n",
      "Messages: {'object': 'list', 'data': [{'id': 'msg_Cbv5SMtqBZrsk9JfG2Jj8K3W', 'object': 'thread.message', 'created_at': 1734618771, 'assistant_id': 'asst_sh4SHLlw9YXwitx99ZsFWYJZ', 'thread_id': 'thread_TbW7ErIzTw9p8vTvCawgqhd7', 'run_id': 'run_4Sv8PiIbqA45xMjZzuyz4MXH', 'role': 'assistant', 'content': [{'type': 'text', 'text': {'value': 'The highest rated movie is **\"Shadows of Tomorrow\"** with a rating of **9.1**.', 'annotations': []}}], 'attachments': [], 'metadata': {}}, {'id': 'msg_wlZb3PDMIg7E6OVxkX5QL0q4', 'object': 'thread.message', 'created_at': 1734618762, 'assistant_id': None, 'thread_id': 'thread_TbW7ErIzTw9p8vTvCawgqhd7', 'run_id': None, 'role': 'user', 'content': [{'type': 'text', 'text': {'value': 'What was the highest rated movie?', 'annotations': []}}], 'attachments': [], 'metadata': {}}], 'first_id': 'msg_Cbv5SMtqBZrsk9JfG2Jj8K3W', 'last_id': 'msg_wlZb3PDMIg7E6OVxkX5QL0q4', 'has_more': False}\n",
      "Last Message: The highest rated movie is **\"Shadows of Tomorrow\"** with a rating of **9.1**.\n"
     ]
    }
   ],
   "source": [
    "ask_a_question(\"What was the highest rated movie?\")\n"
   ]
  },
  {
   "cell_type": "code",
   "execution_count": 12,
   "metadata": {},
   "outputs": [
    {
     "name": "stdout",
     "output_type": "stream",
     "text": [
      "Created message, message ID: msg_xlidALdiFhWungXpF2Th9jX3\n",
      "Run finished with status: RunStatus.COMPLETED\n",
      "Messages: {'object': 'list', 'data': [{'id': 'msg_ArkrMiXROlV9xoZTRbR8lrad', 'object': 'thread.message', 'created_at': 1734618802, 'assistant_id': 'asst_sh4SHLlw9YXwitx99ZsFWYJZ', 'thread_id': 'thread_TbW7ErIzTw9p8vTvCawgqhd7', 'run_id': 'run_oi8SkPevmP3yvRQGxtFTFONW', 'role': 'assistant', 'content': [{'type': 'text', 'text': {'value': 'The top 5 movies by rating are:\\n\\n1. **Shadows of Tomorrow** - Rating: 9.1\\n2. **Starlight Beyond Time** - Rating: 9.0\\n3. **Secrets of the Alabaster Tower** - Rating: 8.9\\n4. **The Whispering Echoes** - Rating: 8.7\\n5. **Voyage through the Hidden Isles** - Rating: 8.6', 'annotations': []}}], 'attachments': [], 'metadata': {}}, {'id': 'msg_xlidALdiFhWungXpF2Th9jX3', 'object': 'thread.message', 'created_at': 1734618799, 'assistant_id': None, 'thread_id': 'thread_TbW7ErIzTw9p8vTvCawgqhd7', 'run_id': None, 'role': 'user', 'content': [{'type': 'text', 'text': {'value': 'What are the top 5 movies by rating?', 'annotations': []}}], 'attachments': [], 'metadata': {}}, {'id': 'msg_Cbv5SMtqBZrsk9JfG2Jj8K3W', 'object': 'thread.message', 'created_at': 1734618771, 'assistant_id': 'asst_sh4SHLlw9YXwitx99ZsFWYJZ', 'thread_id': 'thread_TbW7ErIzTw9p8vTvCawgqhd7', 'run_id': 'run_4Sv8PiIbqA45xMjZzuyz4MXH', 'role': 'assistant', 'content': [{'type': 'text', 'text': {'value': 'The highest rated movie is **\"Shadows of Tomorrow\"** with a rating of **9.1**.', 'annotations': []}}], 'attachments': [], 'metadata': {}}, {'id': 'msg_wlZb3PDMIg7E6OVxkX5QL0q4', 'object': 'thread.message', 'created_at': 1734618762, 'assistant_id': None, 'thread_id': 'thread_TbW7ErIzTw9p8vTvCawgqhd7', 'run_id': None, 'role': 'user', 'content': [{'type': 'text', 'text': {'value': 'What was the highest rated movie?', 'annotations': []}}], 'attachments': [], 'metadata': {}}], 'first_id': 'msg_ArkrMiXROlV9xoZTRbR8lrad', 'last_id': 'msg_wlZb3PDMIg7E6OVxkX5QL0q4', 'has_more': False}\n",
      "Last Message: The top 5 movies by rating are:\n",
      "\n",
      "1. **Shadows of Tomorrow** - Rating: 9.1\n",
      "2. **Starlight Beyond Time** - Rating: 9.0\n",
      "3. **Secrets of the Alabaster Tower** - Rating: 8.9\n",
      "4. **The Whispering Echoes** - Rating: 8.7\n",
      "5. **Voyage through the Hidden Isles** - Rating: 8.6\n"
     ]
    }
   ],
   "source": [
    "ask_a_question(\"What are the top 5 movies by rating?\")"
   ]
  },
  {
   "cell_type": "code",
   "execution_count": 13,
   "metadata": {},
   "outputs": [
    {
     "name": "stdout",
     "output_type": "stream",
     "text": [
      "Created message, message ID: msg_zmThxLzaqkv6GZ37YjiYBxe3\n",
      "Run finished with status: RunStatus.COMPLETED\n",
      "Messages: {'object': 'list', 'data': [{'id': 'msg_opKeBk2keMonP2H9rkqULApc', 'object': 'thread.message', 'created_at': 1734618837, 'assistant_id': 'asst_sh4SHLlw9YXwitx99ZsFWYJZ', 'thread_id': 'thread_TbW7ErIzTw9p8vTvCawgqhd7', 'run_id': 'run_jYeUw9OrFiw6FFoDEuzvxZuK', 'role': 'assistant', 'content': [{'type': 'text', 'text': {'value': 'The average rating of the movies is approximately **7.99**.', 'annotations': []}}], 'attachments': [], 'metadata': {}}, {'id': 'msg_zmThxLzaqkv6GZ37YjiYBxe3', 'object': 'thread.message', 'created_at': 1734618831, 'assistant_id': None, 'thread_id': 'thread_TbW7ErIzTw9p8vTvCawgqhd7', 'run_id': None, 'role': 'user', 'content': [{'type': 'text', 'text': {'value': 'What is the average rating of the movies?', 'annotations': []}}], 'attachments': [], 'metadata': {}}, {'id': 'msg_ArkrMiXROlV9xoZTRbR8lrad', 'object': 'thread.message', 'created_at': 1734618802, 'assistant_id': 'asst_sh4SHLlw9YXwitx99ZsFWYJZ', 'thread_id': 'thread_TbW7ErIzTw9p8vTvCawgqhd7', 'run_id': 'run_oi8SkPevmP3yvRQGxtFTFONW', 'role': 'assistant', 'content': [{'type': 'text', 'text': {'value': 'The top 5 movies by rating are:\\n\\n1. **Shadows of Tomorrow** - Rating: 9.1\\n2. **Starlight Beyond Time** - Rating: 9.0\\n3. **Secrets of the Alabaster Tower** - Rating: 8.9\\n4. **The Whispering Echoes** - Rating: 8.7\\n5. **Voyage through the Hidden Isles** - Rating: 8.6', 'annotations': []}}], 'attachments': [], 'metadata': {}}, {'id': 'msg_xlidALdiFhWungXpF2Th9jX3', 'object': 'thread.message', 'created_at': 1734618799, 'assistant_id': None, 'thread_id': 'thread_TbW7ErIzTw9p8vTvCawgqhd7', 'run_id': None, 'role': 'user', 'content': [{'type': 'text', 'text': {'value': 'What are the top 5 movies by rating?', 'annotations': []}}], 'attachments': [], 'metadata': {}}, {'id': 'msg_Cbv5SMtqBZrsk9JfG2Jj8K3W', 'object': 'thread.message', 'created_at': 1734618771, 'assistant_id': 'asst_sh4SHLlw9YXwitx99ZsFWYJZ', 'thread_id': 'thread_TbW7ErIzTw9p8vTvCawgqhd7', 'run_id': 'run_4Sv8PiIbqA45xMjZzuyz4MXH', 'role': 'assistant', 'content': [{'type': 'text', 'text': {'value': 'The highest rated movie is **\"Shadows of Tomorrow\"** with a rating of **9.1**.', 'annotations': []}}], 'attachments': [], 'metadata': {}}, {'id': 'msg_wlZb3PDMIg7E6OVxkX5QL0q4', 'object': 'thread.message', 'created_at': 1734618762, 'assistant_id': None, 'thread_id': 'thread_TbW7ErIzTw9p8vTvCawgqhd7', 'run_id': None, 'role': 'user', 'content': [{'type': 'text', 'text': {'value': 'What was the highest rated movie?', 'annotations': []}}], 'attachments': [], 'metadata': {}}], 'first_id': 'msg_opKeBk2keMonP2H9rkqULApc', 'last_id': 'msg_wlZb3PDMIg7E6OVxkX5QL0q4', 'has_more': False}\n",
      "Last Message: The average rating of the movies is approximately **7.99**.\n"
     ]
    }
   ],
   "source": [
    "ask_a_question(\"What is the average rating of the movies?\")\n"
   ]
  },
  {
   "cell_type": "code",
   "execution_count": 14,
   "metadata": {},
   "outputs": [
    {
     "name": "stdout",
     "output_type": "stream",
     "text": [
      "Created message, message ID: msg_yeGXIx8cUJjtFPJLVFG0SeY1\n",
      "Run finished with status: RunStatus.COMPLETED\n",
      "Messages: {'object': 'list', 'data': [{'id': 'msg_67o2adUYcuj2q89xvV0HhwKM', 'object': 'thread.message', 'created_at': 1734618867, 'assistant_id': 'asst_sh4SHLlw9YXwitx99ZsFWYJZ', 'thread_id': 'thread_TbW7ErIzTw9p8vTvCawgqhd7', 'run_id': 'run_jEZvjYMyKUd2KE1qwe5YjTGm', 'role': 'assistant', 'content': [{'type': 'text', 'text': {'value': 'The lowest rated movie is **\"Echoes in the Silence\"** with a rating of **6.8**.', 'annotations': []}}], 'attachments': [], 'metadata': {}}, {'id': 'msg_yeGXIx8cUJjtFPJLVFG0SeY1', 'object': 'thread.message', 'created_at': 1734618864, 'assistant_id': None, 'thread_id': 'thread_TbW7ErIzTw9p8vTvCawgqhd7', 'run_id': None, 'role': 'user', 'content': [{'type': 'text', 'text': {'value': 'What is the lowest rate movies?', 'annotations': []}}], 'attachments': [], 'metadata': {}}, {'id': 'msg_opKeBk2keMonP2H9rkqULApc', 'object': 'thread.message', 'created_at': 1734618837, 'assistant_id': 'asst_sh4SHLlw9YXwitx99ZsFWYJZ', 'thread_id': 'thread_TbW7ErIzTw9p8vTvCawgqhd7', 'run_id': 'run_jYeUw9OrFiw6FFoDEuzvxZuK', 'role': 'assistant', 'content': [{'type': 'text', 'text': {'value': 'The average rating of the movies is approximately **7.99**.', 'annotations': []}}], 'attachments': [], 'metadata': {}}, {'id': 'msg_zmThxLzaqkv6GZ37YjiYBxe3', 'object': 'thread.message', 'created_at': 1734618831, 'assistant_id': None, 'thread_id': 'thread_TbW7ErIzTw9p8vTvCawgqhd7', 'run_id': None, 'role': 'user', 'content': [{'type': 'text', 'text': {'value': 'What is the average rating of the movies?', 'annotations': []}}], 'attachments': [], 'metadata': {}}, {'id': 'msg_ArkrMiXROlV9xoZTRbR8lrad', 'object': 'thread.message', 'created_at': 1734618802, 'assistant_id': 'asst_sh4SHLlw9YXwitx99ZsFWYJZ', 'thread_id': 'thread_TbW7ErIzTw9p8vTvCawgqhd7', 'run_id': 'run_oi8SkPevmP3yvRQGxtFTFONW', 'role': 'assistant', 'content': [{'type': 'text', 'text': {'value': 'The top 5 movies by rating are:\\n\\n1. **Shadows of Tomorrow** - Rating: 9.1\\n2. **Starlight Beyond Time** - Rating: 9.0\\n3. **Secrets of the Alabaster Tower** - Rating: 8.9\\n4. **The Whispering Echoes** - Rating: 8.7\\n5. **Voyage through the Hidden Isles** - Rating: 8.6', 'annotations': []}}], 'attachments': [], 'metadata': {}}, {'id': 'msg_xlidALdiFhWungXpF2Th9jX3', 'object': 'thread.message', 'created_at': 1734618799, 'assistant_id': None, 'thread_id': 'thread_TbW7ErIzTw9p8vTvCawgqhd7', 'run_id': None, 'role': 'user', 'content': [{'type': 'text', 'text': {'value': 'What are the top 5 movies by rating?', 'annotations': []}}], 'attachments': [], 'metadata': {}}, {'id': 'msg_Cbv5SMtqBZrsk9JfG2Jj8K3W', 'object': 'thread.message', 'created_at': 1734618771, 'assistant_id': 'asst_sh4SHLlw9YXwitx99ZsFWYJZ', 'thread_id': 'thread_TbW7ErIzTw9p8vTvCawgqhd7', 'run_id': 'run_4Sv8PiIbqA45xMjZzuyz4MXH', 'role': 'assistant', 'content': [{'type': 'text', 'text': {'value': 'The highest rated movie is **\"Shadows of Tomorrow\"** with a rating of **9.1**.', 'annotations': []}}], 'attachments': [], 'metadata': {}}, {'id': 'msg_wlZb3PDMIg7E6OVxkX5QL0q4', 'object': 'thread.message', 'created_at': 1734618762, 'assistant_id': None, 'thread_id': 'thread_TbW7ErIzTw9p8vTvCawgqhd7', 'run_id': None, 'role': 'user', 'content': [{'type': 'text', 'text': {'value': 'What was the highest rated movie?', 'annotations': []}}], 'attachments': [], 'metadata': {}}], 'first_id': 'msg_67o2adUYcuj2q89xvV0HhwKM', 'last_id': 'msg_wlZb3PDMIg7E6OVxkX5QL0q4', 'has_more': False}\n",
      "Last Message: The lowest rated movie is **\"Echoes in the Silence\"** with a rating of **6.8**.\n"
     ]
    }
   ],
   "source": [
    "ask_a_question(\"What is the lowest rate movies?\")\n"
   ]
  },
  {
   "cell_type": "code",
   "execution_count": 15,
   "metadata": {},
   "outputs": [
    {
     "name": "stdout",
     "output_type": "stream",
     "text": [
      "Created message, message ID: msg_nszqPeaFOCNCIt821QdIOSmi\n",
      "Run finished with status: RunStatus.COMPLETED\n",
      "Messages: {'object': 'list', 'data': [{'id': 'msg_0gLdrCgo8ZylqxDLtXXCdEnB', 'object': 'thread.message', 'created_at': 1734618881, 'assistant_id': 'asst_sh4SHLlw9YXwitx99ZsFWYJZ', 'thread_id': 'thread_TbW7ErIzTw9p8vTvCawgqhd7', 'run_id': 'run_o5dARDDovQsnqXA73TImnrfb', 'role': 'assistant', 'content': [{'type': 'text', 'text': {'value': 'There are a total of **20 movies** in the dataset.', 'annotations': []}}], 'attachments': [], 'metadata': {}}, {'id': 'msg_nszqPeaFOCNCIt821QdIOSmi', 'object': 'thread.message', 'created_at': 1734618878, 'assistant_id': None, 'thread_id': 'thread_TbW7ErIzTw9p8vTvCawgqhd7', 'run_id': None, 'role': 'user', 'content': [{'type': 'text', 'text': {'value': 'How many movies are there?', 'annotations': []}}], 'attachments': [], 'metadata': {}}, {'id': 'msg_67o2adUYcuj2q89xvV0HhwKM', 'object': 'thread.message', 'created_at': 1734618867, 'assistant_id': 'asst_sh4SHLlw9YXwitx99ZsFWYJZ', 'thread_id': 'thread_TbW7ErIzTw9p8vTvCawgqhd7', 'run_id': 'run_jEZvjYMyKUd2KE1qwe5YjTGm', 'role': 'assistant', 'content': [{'type': 'text', 'text': {'value': 'The lowest rated movie is **\"Echoes in the Silence\"** with a rating of **6.8**.', 'annotations': []}}], 'attachments': [], 'metadata': {}}, {'id': 'msg_yeGXIx8cUJjtFPJLVFG0SeY1', 'object': 'thread.message', 'created_at': 1734618864, 'assistant_id': None, 'thread_id': 'thread_TbW7ErIzTw9p8vTvCawgqhd7', 'run_id': None, 'role': 'user', 'content': [{'type': 'text', 'text': {'value': 'What is the lowest rate movies?', 'annotations': []}}], 'attachments': [], 'metadata': {}}, {'id': 'msg_opKeBk2keMonP2H9rkqULApc', 'object': 'thread.message', 'created_at': 1734618837, 'assistant_id': 'asst_sh4SHLlw9YXwitx99ZsFWYJZ', 'thread_id': 'thread_TbW7ErIzTw9p8vTvCawgqhd7', 'run_id': 'run_jYeUw9OrFiw6FFoDEuzvxZuK', 'role': 'assistant', 'content': [{'type': 'text', 'text': {'value': 'The average rating of the movies is approximately **7.99**.', 'annotations': []}}], 'attachments': [], 'metadata': {}}, {'id': 'msg_zmThxLzaqkv6GZ37YjiYBxe3', 'object': 'thread.message', 'created_at': 1734618831, 'assistant_id': None, 'thread_id': 'thread_TbW7ErIzTw9p8vTvCawgqhd7', 'run_id': None, 'role': 'user', 'content': [{'type': 'text', 'text': {'value': 'What is the average rating of the movies?', 'annotations': []}}], 'attachments': [], 'metadata': {}}, {'id': 'msg_ArkrMiXROlV9xoZTRbR8lrad', 'object': 'thread.message', 'created_at': 1734618802, 'assistant_id': 'asst_sh4SHLlw9YXwitx99ZsFWYJZ', 'thread_id': 'thread_TbW7ErIzTw9p8vTvCawgqhd7', 'run_id': 'run_oi8SkPevmP3yvRQGxtFTFONW', 'role': 'assistant', 'content': [{'type': 'text', 'text': {'value': 'The top 5 movies by rating are:\\n\\n1. **Shadows of Tomorrow** - Rating: 9.1\\n2. **Starlight Beyond Time** - Rating: 9.0\\n3. **Secrets of the Alabaster Tower** - Rating: 8.9\\n4. **The Whispering Echoes** - Rating: 8.7\\n5. **Voyage through the Hidden Isles** - Rating: 8.6', 'annotations': []}}], 'attachments': [], 'metadata': {}}, {'id': 'msg_xlidALdiFhWungXpF2Th9jX3', 'object': 'thread.message', 'created_at': 1734618799, 'assistant_id': None, 'thread_id': 'thread_TbW7ErIzTw9p8vTvCawgqhd7', 'run_id': None, 'role': 'user', 'content': [{'type': 'text', 'text': {'value': 'What are the top 5 movies by rating?', 'annotations': []}}], 'attachments': [], 'metadata': {}}, {'id': 'msg_Cbv5SMtqBZrsk9JfG2Jj8K3W', 'object': 'thread.message', 'created_at': 1734618771, 'assistant_id': 'asst_sh4SHLlw9YXwitx99ZsFWYJZ', 'thread_id': 'thread_TbW7ErIzTw9p8vTvCawgqhd7', 'run_id': 'run_4Sv8PiIbqA45xMjZzuyz4MXH', 'role': 'assistant', 'content': [{'type': 'text', 'text': {'value': 'The highest rated movie is **\"Shadows of Tomorrow\"** with a rating of **9.1**.', 'annotations': []}}], 'attachments': [], 'metadata': {}}, {'id': 'msg_wlZb3PDMIg7E6OVxkX5QL0q4', 'object': 'thread.message', 'created_at': 1734618762, 'assistant_id': None, 'thread_id': 'thread_TbW7ErIzTw9p8vTvCawgqhd7', 'run_id': None, 'role': 'user', 'content': [{'type': 'text', 'text': {'value': 'What was the highest rated movie?', 'annotations': []}}], 'attachments': [], 'metadata': {}}], 'first_id': 'msg_0gLdrCgo8ZylqxDLtXXCdEnB', 'last_id': 'msg_wlZb3PDMIg7E6OVxkX5QL0q4', 'has_more': False}\n",
      "Last Message: There are a total of **20 movies** in the dataset.\n"
     ]
    }
   ],
   "source": [
    "ask_a_question(\"How many movies are there?\")\n"
   ]
  },
  {
   "cell_type": "markdown",
   "metadata": {},
   "source": [
    "# Clean Up"
   ]
  },
  {
   "cell_type": "code",
   "execution_count": 16,
   "metadata": {},
   "outputs": [
    {
     "name": "stdout",
     "output_type": "stream",
     "text": [
      "Deleted file\n",
      "Deleted agent\n"
     ]
    }
   ],
   "source": [
    "project_client.agents.delete_file(file.id)\n",
    "print(\"Deleted file\")\n",
    "\n",
    "project_client.agents.delete_agent(agent.id)\n",
    "print(\"Deleted agent\")"
   ]
  }
 ],
 "metadata": {
  "kernelspec": {
   "display_name": "agent",
   "language": "python",
   "name": "python3"
  },
  "language_info": {
   "codemirror_mode": {
    "name": "ipython",
    "version": 3
   },
   "file_extension": ".py",
   "mimetype": "text/x-python",
   "name": "python",
   "nbconvert_exporter": "python",
   "pygments_lexer": "ipython3",
   "version": "3.13.1"
  }
 },
 "nbformat": 4,
 "nbformat_minor": 2
}
