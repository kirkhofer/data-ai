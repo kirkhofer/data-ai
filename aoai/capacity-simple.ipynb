{
 "cells": [
  {
   "cell_type": "markdown",
   "metadata": {},
   "source": [
    "# Simple Capacity \n",
    "Like the [Capacity Notebook](capacity.ipynb) but hardcoded models"
   ]
  },
  {
   "cell_type": "code",
   "execution_count": 2,
   "metadata": {},
   "outputs": [
    {
     "name": "stdout",
     "output_type": "stream",
     "text": [
      "2024-09-12 08:21:41\n"
     ]
    }
   ],
   "source": [
    "from azure.identity import DefaultAzureCredential\n",
    "import requests,json,os\n",
    "import pandas as pd\n",
    "import time\n",
    "\n",
    "print(time.strftime(\"%Y-%m-%d %H:%M:%S\"))\n",
    "\n",
    "credential = DefaultAzureCredential()\n",
    "token = credential.get_token(\"https://management.azure.com/.default\").token\n",
    "headers= {'Authorization': f'Bearer {token}', 'Content-Type': 'application/json'}"
   ]
  },
  {
   "cell_type": "code",
   "execution_count": 3,
   "metadata": {},
   "outputs": [
    {
     "name": "stdout",
     "output_type": "stream",
     "text": [
      "Using subscription cd60139f-77b6-4946-8ff6-7c2135d571fa\n"
     ]
    }
   ],
   "source": [
    "subs = requests.get('https://management.azure.com/subscriptions?api-version=2022-12-01',headers=headers).json()\n",
    "if 'value' in subs:\n",
    "    subId=subs['value'][0]['subscriptionId']\n",
    "    print(f\"Using subscription {subId}\")\n",
    "else:\n",
    "    print(\"No subscriptions found\")"
   ]
  },
  {
   "cell_type": "code",
   "execution_count": 4,
   "metadata": {},
   "outputs": [],
   "source": [
    "def GetModelCapacities(subId,modelVersion,modelName,modelFormat):\n",
    "\n",
    "    uri=f\"https://management.azure.com/subscriptions/{subId}/providers/Microsoft.CognitiveServices/modelCapacities?api-version=2024-04-01-preview&modelFormat={modelFormat}&modelName={modelName}&modelVersion={modelVersion}\"\n",
    "    items=[]\n",
    "\n",
    "    while uri:\n",
    "        request=requests.get(uri, headers=headers,timeout=15)\n",
    "        \n",
    "        #loop through the value attribute of the response and generate embeddings for each content\n",
    "        if 200 == request.status_code:\n",
    "            response=request.json()\n",
    "            for val in response['value']:\n",
    "                item={}\n",
    "                item['id']=val['id']\n",
    "                item['name']=val['name']\n",
    "                item['location']=val['location']\n",
    "                item['modelName']=modelName\n",
    "                item['modelVersion']=modelVersion\n",
    "                item['modelFormat']=modelFormat\n",
    "                item['availableCapacity']=val['properties']['availableCapacity']\n",
    "                items.append(item)\n",
    "\n",
    "            #check if the odata.nextLink attribute is present in the response\n",
    "            if 'nextLink' in response:\n",
    "                uri=response['nextLink']\n",
    "            else:\n",
    "                uri=None\n",
    "        else:\n",
    "            uri=None\n",
    "    return items\n"
   ]
  },
  {
   "cell_type": "code",
   "execution_count": 5,
   "metadata": {},
   "outputs": [],
   "source": [
    "models=[]\n",
    "\n",
    "models.append({'model':'gpt-35-turbo','version':'0125','kind':'OpenAI','increment':50})\n",
    "models.append({'model':'gpt-35-turbo','version':'1106','kind':'OpenAI','increment':50})\n",
    "models.append({'model':'gpt-4','version':'0125-Preview','kind':'OpenAI','increment':100})\n",
    "models.append({'model':'gpt-4','version':'0613','kind':'OpenAI','increment':100})\n",
    "models.append({'model':'gpt-4-32k','version':'0613','kind':'OpenAI','increment':200})\n",
    "models.append({'model':'gpt-4','version':'1106-Preview','kind':'OpenAI','increment':100})\n",
    "models.append({'model':'gpt-4','version':'turbo-2024-04-09','kind':'OpenAI','increment':100})\n",
    "models.append({'model':'gpt-4o','version':'2024-05-13','kind':'OpenAI','increment':50})\n",
    "models.append({'model':'gpt-4o-mini','version':'2024-07-18','kind':'OpenAI','increment':25})\n",
    "models.append({'model':'gpt-4o','version':'2024-08-06','kind':'OpenAI','increment':50})"
   ]
  },
  {
   "cell_type": "code",
   "execution_count": null,
   "metadata": {},
   "outputs": [],
   "source": [
    "capacities=[]\n",
    "# for model,version,kind in models:\n",
    "for model,version,kind in list(set([(d['model'],d['version'],d['kind']) for d in models])):\n",
    "    print(model,version,kind)\n",
    "    try:\n",
    "        items = GetModelCapacities(subId,version,model,kind)\n",
    "        capacities.extend(items)\n",
    "    except Exception as ex:\n",
    "        print(ex)\n",
    "\n",
    "# print(capacities)\n",
    "# file_path = f'Files/modelCapacities.json'\n",
    "# os.makedirs(os.path.dirname(file_path), exist_ok=True)\n",
    "# with open(file_path, 'w') as f:\n",
    "#     json.dump(capacities, f)"
   ]
  },
  {
   "cell_type": "code",
   "execution_count": 7,
   "metadata": {},
   "outputs": [
    {
     "name": "stdout",
     "output_type": "stream",
     "text": [
      "               location    modelName modelVersion modelFormat  availableCapacity\n",
      "112         brazilsouth       gpt-4o   2024-05-13      OpenAI                100\n",
      "57          brazilsouth  gpt-4o-mini   2024-07-18      OpenAI                100\n",
      "153          canadaeast       gpt-4o   2024-05-13      OpenAI                100\n",
      "70           canadaeast  gpt-4o-mini   2024-07-18      OpenAI                 13\n",
      "127             eastus2       gpt-4o   2024-05-13      OpenAI                100\n",
      "63              eastus2  gpt-4o-mini   2024-07-18      OpenAI                100\n",
      "147  germanywestcentral       gpt-4o   2024-05-13      OpenAI                100\n",
      "129           japaneast       gpt-4o   2024-05-13      OpenAI                100\n",
      "133        koreacentral       gpt-4o   2024-05-13      OpenAI                100\n",
      "138      northcentralus       gpt-4o   2024-05-13      OpenAI                100\n",
      "64       northcentralus  gpt-4o-mini   2024-07-18      OpenAI                100\n",
      "120      southcentralus       gpt-4o   2024-05-13      OpenAI                100\n",
      "156          southindia       gpt-4o   2024-05-13      OpenAI                100\n",
      "142       swedencentral       gpt-4o   2024-05-13      OpenAI                100\n",
      "69        swedencentral  gpt-4o-mini   2024-07-18      OpenAI                 22\n",
      "145    switzerlandnorth       gpt-4o   2024-05-13      OpenAI                100\n",
      "115              westus       gpt-4o   2024-05-13      OpenAI                100\n",
      "151             westus3       gpt-4o   2024-05-13      OpenAI                100\n"
     ]
    }
   ],
   "source": [
    "df = pd.DataFrame(capacities)\n",
    "# Filter out the ones with no capacity\n",
    "df = df[df['availableCapacity'] > 0]\n",
    "df = df[df['name'] == 'ProvisionedManaged']\n",
    "# Filter out the ones that are not gpt-4o\n",
    "df = df[df['modelName'].str.startswith('gpt-4o')]\n",
    "# List by location and model and sort by that too\n",
    "df = df.sort_values(by=['location','modelName','modelVersion','modelFormat'])\n",
    "# display without wrapping\n",
    "pd.set_option('display.expand_frame_repr', False)\n",
    "# display the location,modelName,modelVersion,modelFormat,availableCapacity\n",
    "df = df[['location','modelName','modelVersion','modelFormat','availableCapacity']]\n",
    "print(df)\n"
   ]
  }
 ],
 "metadata": {
  "kernelspec": {
   "display_name": "ai102",
   "language": "python",
   "name": "python3"
  },
  "language_info": {
   "codemirror_mode": {
    "name": "ipython",
    "version": 3
   },
   "file_extension": ".py",
   "mimetype": "text/x-python",
   "name": "python",
   "nbconvert_exporter": "python",
   "pygments_lexer": "ipython3",
   "version": "3.10.9"
  }
 },
 "nbformat": 4,
 "nbformat_minor": 2
}
