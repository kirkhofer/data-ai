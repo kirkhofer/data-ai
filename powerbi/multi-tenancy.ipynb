{
 "cells": [
  {
   "attachments": {},
   "cell_type": "markdown",
   "metadata": {},
   "source": [
    "# Setup and configuration\n",
    "This notebook walks through the actual code in this document for Power BI [Multi-tenancy](https://learn.microsoft.com/en-us/power-bi/developer/embedded/embed-multi-tenancy)\n",
    "\n",
    "Steps needed to run this notebook:\n",
    "1. Create a app registration as stated in this [link](https://learn.microsoft.com/en-us/power-bi/developer/embedded/embed-service-principal#step-1---create-an-azure-ad-app)\n",
    "    > 💡Copy the Domain/Tenant ID, Application/Client ID and Token created\n",
    "1. From a Power BI tenant admin account, enable creating profiles in the tenant using the same security group you used when you created the service principal.\n",
    "1. Create a `.env` in this folder with the following variables:\n",
    "    ```\n",
    "    TenantId=<guid of your tenant in Azure>\n",
    "    ClientId=<App reg id you create>\n",
    "    ClientSecret=<Secret for the app you create>\n",
    "    sqlUser=<sql user name>\n",
    "    sqlPwd=<sql password>\n",
    "    ```\n",
    "    - This is optional if you don't care about updating the SQL credentials. This will at least show you how to do it. There is one table with a list of customers that are Fortune 500 by state\n",
    "\n",
    "## Assumptions\n",
    " You know how to create and work a Python Notebook which includes setting up an environment and installing the required modules:\n",
    " ```\n",
    "azure-identity==1.12.0\n",
    "pandas\n",
    "python-dotenv\n",
    " ```"
   ]
  },
  {
   "attachments": {},
   "cell_type": "markdown",
   "metadata": {},
   "source": [
    "# Import the required modules"
   ]
  },
  {
   "cell_type": "code",
   "execution_count": null,
   "metadata": {},
   "outputs": [],
   "source": [
    "from dotenv import load_dotenv\n",
    "import os\n",
    "import pandas as pd, json\n",
    "from azure.identity import DefaultAzureCredential,ClientSecretCredential\n",
    "import requests"
   ]
  },
  {
   "attachments": {},
   "cell_type": "markdown",
   "metadata": {},
   "source": [
    "Authenticate\n"
   ]
  },
  {
   "cell_type": "code",
   "execution_count": null,
   "metadata": {},
   "outputs": [],
   "source": [
    "api = 'https://analysis.windows.net/powerbi/api/.default'\n",
    "\n",
    "load_dotenv()\n",
    "\n",
    "credit_auth = True\n",
    "#This loads the environment variables from the .env file\n",
    "if credit_auth:\n",
    "    tenant_id = os.getenv('TenantId')\n",
    "    client_id = os.getenv('ClientId')\n",
    "    client_secret = os.getenv('ClientSecret')\n",
    "    auth = ClientSecretCredential(authority = 'https://login.microsoftonline.com/',\n",
    "                                                        tenant_id = tenant_id,\n",
    "                                                        client_id = client_id,\n",
    "                                                        client_secret = client_secret)\n",
    "    access_token = auth.get_token(api)   \n",
    "else:\n",
    "    # This assumes the keys are in the environment variables file AZURE_TENANT_ID,AZURE_CLIENT_ID and AZURE_CLIENT_SECRET\n",
    "    azure_credential = DefaultAzureCredential() \n",
    "    access_token = azure_credential.get_token(api) \n",
    "\n",
    "base_url = 'https://api.powerbi.com/v1.0/myorg/'\n",
    "header = {'Authorization': f'Bearer {access_token.token}'}"
   ]
  },
  {
   "cell_type": "code",
   "execution_count": null,
   "metadata": {},
   "outputs": [],
   "source": [
    "#Variables for the workspace and report. None of these should exist at the beginning of the script\n",
    "profileName=\"profile2\"\n",
    "workspaceName=\"Test for Meeting\"\n",
    "\n",
    "#Have a local PBIX file ready to publish. I have included a sample one\n",
    "filePath='/path to a pbix file/Customer.pbix'\n",
    "reportName=\"Customer\""
   ]
  },
  {
   "attachments": {},
   "cell_type": "markdown",
   "metadata": {},
   "source": [
    "## Functions"
   ]
  },
  {
   "cell_type": "code",
   "execution_count": null,
   "metadata": {},
   "outputs": [],
   "source": [
    "print(os.getcwd())\n",
    "\n",
    "# function to upload a file to power bi\n",
    "def upload_file(headers, groupId, fileName,reportName):\n",
    "    url = 'https://api.powerbi.com/v1.0/myorg/groups/' + groupId + '/imports?nameConflict=Abort&datasetDisplayName=' + reportName\n",
    "\n",
    "    # create a copy of the headers\n",
    "    headers_copy = headers.copy()\n",
    "    headers_copy['Content-Type'] = 'multipart/form-data'\n",
    "    files = {\n",
    "        'file': (reportName+'.pbix', open(fileName, 'rb')),\n",
    "    }\n",
    "\n",
    "    r = requests.post(\n",
    "        url=url,\n",
    "        files=files,\n",
    "        headers=headers_copy\n",
    "    )\n"
   ]
  },
  {
   "attachments": {},
   "cell_type": "markdown",
   "metadata": {},
   "source": [
    "## Get Profile Id"
   ]
  },
  {
   "cell_type": "code",
   "execution_count": null,
   "metadata": {},
   "outputs": [],
   "source": [
    "# Get a list of profiles\n",
    "response = requests.get(base_url + 'profiles', headers=header).json()\n",
    "# print(f\"Count={response['@odata.count']}\")\n",
    "print(base_url + 'profiles')\n",
    "print(response)\n"
   ]
  },
  {
   "attachments": {},
   "cell_type": "markdown",
   "metadata": {},
   "source": [
    "## Create the profile\n"
   ]
  },
  {
   "cell_type": "code",
   "execution_count": null,
   "metadata": {},
   "outputs": [],
   "source": [
    "body = {\n",
    "    \"displayName\": profileName,\n",
    "}\n",
    "response = requests.post(base_url + 'profiles', headers=header, json=body).json()\n",
    "profileId=response['id']\n",
    "\n",
    "# add the profile id to the header\n",
    "header['X-PowerBI-Profile-Id']=profileId"
   ]
  },
  {
   "attachments": {},
   "cell_type": "markdown",
   "metadata": {},
   "source": [
    "## List Workspaces\n"
   ]
  },
  {
   "cell_type": "code",
   "execution_count": null,
   "metadata": {},
   "outputs": [],
   "source": [
    "groups = requests.get(base_url + f\"groups\", headers=header).json()\n",
    "\n",
    "print(json.dumps(groups, indent=4, sort_keys=True))"
   ]
  },
  {
   "cell_type": "code",
   "execution_count": null,
   "metadata": {},
   "outputs": [],
   "source": [
    "# Create a new workspace\n",
    "body = {\n",
    "    \"name\": workspaceName\n",
    "}\n",
    "response = requests.post(base_url + 'groups', headers=header, json=body).json()\n",
    "workspaceId=response['id']\n",
    "print(json.dumps(response, indent=4, sort_keys=True))"
   ]
  },
  {
   "attachments": {},
   "cell_type": "markdown",
   "metadata": {},
   "source": [
    "## Upload a PBIX file"
   ]
  },
  {
   "cell_type": "code",
   "execution_count": null,
   "metadata": {},
   "outputs": [],
   "source": [
    "upload_file(header, workspaceId, filePath,reportName)"
   ]
  },
  {
   "cell_type": "code",
   "execution_count": null,
   "metadata": {},
   "outputs": [],
   "source": [
    "# Get the imports for the workspace\n",
    "imports = requests.get(base_url + \"groups/\" + workspaceId + \"/imports\", headers=header).json()\n",
    "print(json.dumps(imports, indent=4, sort_keys=True))"
   ]
  },
  {
   "attachments": {},
   "cell_type": "markdown",
   "metadata": {},
   "source": [
    "Get the dataset and update any of the properties for the UserName/Password and Parameter"
   ]
  },
  {
   "cell_type": "code",
   "execution_count": null,
   "metadata": {},
   "outputs": [],
   "source": [
    "dataset= requests.get(base_url + \"groups/\" + workspaceId + \"/datasets\", headers=header).json()\n",
    "print(json.dumps(dataset, indent=4))\n",
    "\n",
    "for val in dataset['value']:\n",
    "    dataSources= requests.get(base_url + \"groups/\" + workspaceId + \"/datasets/\" + val['id'] + \"/datasources\", headers=header).json()\n",
    "    print(json.dumps(dataSources, indent=4))\n",
    "    for v in dataSources['value']:\n",
    "        if v['datasourceType'] == 'Sql':\n",
    "            creds={\n",
    "                \"credentialData\":[\n",
    "                        {\"name\":\"username\",\"value\":os.getenv('sqlUser')},\n",
    "                        {\"name\":\"password\",\"value\":os.getenv('sqlPwd')}\n",
    "                ]\n",
    "            }\n",
    "\n",
    "            body={\n",
    "                \"credentialDetails\":json.dumps(creds),\n",
    "                \"credentialType\":\"Basic\",\n",
    "                \"encryptedConnection\":\"Encrypted\",\n",
    "                \"encryptionAlgorithm\":\"None\",\n",
    "                \"privacyLevel\":\"None\"\n",
    "            }\n",
    "            \n",
    "            response = requests.post(base_url + \"gateways/\" + v[\"gatewayId\"] + \"/datasources/\" + v['datasourceId'] + \"/Default.UpdateDatasource\", headers=header, json=body)\n",
    "            print(\"Updating dataset\",base_url + \"gateways/\" + v[\"gatewayId\"] + \"/datasources/\" + v['datasourceId'] + \"/Default.UpdateDatasource\")\n",
    "            print(response)\n",
    "\n"
   ]
  },
  {
   "cell_type": "code",
   "execution_count": null,
   "metadata": {},
   "outputs": [],
   "source": [
    "#Update parameters\n",
    "# https://docs.microsoft.com/en-us/rest/api/power-bi/datasets/updateparametersingroup\n",
    "# https://docs.microsoft.com/en-us/rest/api/power-bi/datasets/getparametersingroup\n",
    "response = requests.get(base_url + \"groups/\" + workspaceId + \"/datasets\", headers=header).json()\n",
    "print(json.dumps(response, indent=4))\n",
    "for val in response['value']:\n",
    "    body={\n",
    "        \"updateDetails\": [\n",
    "            {\n",
    "                \"name\": \"StateCode\",\n",
    "                \"newValue\": \"AR\"\n",
    "            }\n",
    "        ]\n",
    "    }\n",
    "    response = requests.post(base_url + \"groups/\" + workspaceId + \"/datasets/\" + val['id'] + \"/Default.UpdateParameters\", headers=header, json=body)\n",
    "    print(response)"
   ]
  },
  {
   "cell_type": "code",
   "execution_count": null,
   "metadata": {},
   "outputs": [],
   "source": [
    "#Refresh the datasets\n",
    "# https://docs.microsoft.com/en-us/rest/api/power-bi/datasets/refreshdatasetingroup\n",
    "response = requests.get(base_url + \"groups/\" + workspaceId + \"/datasets\", headers=header).json()\n",
    "print(json.dumps(response, indent=4))\n",
    "for val in response['value']:\n",
    "    response = requests.post(base_url + \"groups/\" + workspaceId + \"/datasets/\" + val['id'] + \"/refreshes\", headers=header)\n",
    "    print(response)"
   ]
  },
  {
   "cell_type": "code",
   "execution_count": null,
   "metadata": {},
   "outputs": [],
   "source": [
    "#Get the last 5 refreshes\n",
    "# https://docs.microsoft.com/en-us/rest/api/power-bi/refreshhistories/getrefreshhistoriesingroup\n",
    "response = requests.get(base_url + \"groups/\" + workspaceId + \"/datasets\", headers=header).json()\n",
    "# print(json.dumps(response, indent=4))\n",
    "for val in response['value']:\n",
    "    response = requests.get(base_url + \"groups/\" + workspaceId + \"/datasets/\" + val['id'] + \"/refreshes?$top=5\", headers=header).json()\n",
    "    print(json.dumps(response, indent=4))"
   ]
  },
  {
   "attachments": {},
   "cell_type": "markdown",
   "metadata": {},
   "source": [
    "## Generate an Embed Token\n",
    "This is what would happen in a JavaScript, TypeScript call"
   ]
  },
  {
   "cell_type": "code",
   "execution_count": null,
   "metadata": {},
   "outputs": [],
   "source": [
    "# Get a power bi embed token\n",
    "# https://learn.microsoft.com/en-us/rest/api/power-bi/embed-token/generate-token\n",
    "response = requests.get(base_url + \"groups/\" + workspaceId + \"/reports\", headers=header).json()\n",
    "print(json.dumps(response, indent=4))\n",
    "reportId=response['value'][0]['id']\n",
    "datasetId=response['value'][0]['datasetId']\n",
    "\n",
    "body = {\n",
    "    \"datasets\": [\n",
    "        {\n",
    "            \"id\": datasetId\n",
    "        }\n",
    "    ],\n",
    "    \"reports\": [\n",
    "        {\n",
    "            \"id\": reportId\n",
    "        }\n",
    "    ]\n",
    "}\n",
    "response = requests.post(base_url + \"GenerateToken\", headers=header, json=body).json()\n",
    "print(json.dumps(response, indent=4))"
   ]
  }
 ],
 "metadata": {
  "kernelspec": {
   "display_name": "pbi",
   "language": "python",
   "name": "python3"
  },
  "language_info": {
   "codemirror_mode": {
    "name": "ipython",
    "version": 3
   },
   "file_extension": ".py",
   "mimetype": "text/x-python",
   "name": "python",
   "nbconvert_exporter": "python",
   "pygments_lexer": "ipython3",
   "version": "3.11.3"
  },
  "orig_nbformat": 4
 },
 "nbformat": 4,
 "nbformat_minor": 2
}
