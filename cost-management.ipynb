{
 "cells": [
  {
   "cell_type": "markdown",
   "metadata": {},
   "source": [
    "# Cost Management APIs\n",
    "This notebook can show you how to export costs and use them programatically\n",
    "\n",
    "- [API Reference](https://learn.microsoft.com/en-us/rest/api/cost-management/generate-cost-details-report/create-operation?view=rest-cost-management-2023-11-01&tabs=HTTP#generatecostdetailsreportbysubscriptionandtimeperiod)\n",
    "\n",
    "> Assume you have a `.env` for your `AZURE_SUBSCRIPTION_ID`"
   ]
  },
  {
   "cell_type": "code",
   "execution_count": 1,
   "metadata": {},
   "outputs": [],
   "source": [
    "from azure.identity import DefaultAzureCredential\n",
    "from dotenv import load_dotenv\n",
    "import os\n",
    "from datetime import datetime,timedelta\n",
    "import requests\n",
    "import json\n",
    "from tabulate import tabulate \n",
    "import pandas as pd\n",
    "\n",
    "\n",
    "load_dotenv()\n",
    "\n",
    "subId=os.getenv('AZURE_SUBSCRIPTION_ID')\n",
    "\n",
    "credential = DefaultAzureCredential()\n",
    "token = credential.get_token(\"https://management.azure.com/.default\").token\n",
    "headers= {'Authorization': f'Bearer {token}', 'Content-Type': 'application/json'}"
   ]
  },
  {
   "cell_type": "code",
   "execution_count": null,
   "metadata": {},
   "outputs": [],
   "source": [
    "#Get the first day of the month in yyyy-MM-dd format\n",
    "dtStart = datetime.now().replace(day=1).strftime('%Y-%m-%d')\n",
    "dtCurrent=datetime.now().strftime('%Y-%m-%d')\n",
    "dtPrevious=(datetime.now() - timedelta(days=1)).strftime('%Y-%m-%d')\n",
    "dtMonthPrevious=(datetime.now().replace(day=1) - timedelta(days=1)).strftime('%Y-%m-%d')\n",
    "\n",
    "print(dtStart)\n",
    "print(dtPrevious)\n",
    "\n",
    "body={\n",
    "    \"metric\": \"ActualCost\",\n",
    "    \"timePeriod\": {\n",
    "        \"start\": dtStart,\n",
    "        \"end\": dtPrevious\n",
    "    }\n",
    "}\n",
    "\n",
    "#convert body to utf8 bytes\n",
    "body_utf8 = bytes(json.dumps(body), 'utf-8')\n",
    "\n",
    "url = f\"https://management.azure.com/subscriptions/{subId}/providers/Microsoft.CostManagement/generateCostDetailsReport?api-version=2023-11-01\"\n",
    "response = requests.post(url, headers=headers,json=body)\n",
    "print(response.status_code)\n",
    "\n",
    "location=response.headers['Location']\n",
    "print(\"Location:\",location)\n",
    "url=location"
   ]
  },
  {
   "cell_type": "code",
   "execution_count": 4,
   "metadata": {},
   "outputs": [
    {
     "name": "stdout",
     "output_type": "stream",
     "text": [
      "200\n"
     ]
    }
   ],
   "source": [
    "# Run until you get a 200\n",
    "response = requests.get(url, headers=headers)\n",
    "print(response.status_code)\n",
    "if 200 != response.status_code:\n",
    "    print(response.content)"
   ]
  },
  {
   "cell_type": "code",
   "execution_count": null,
   "metadata": {},
   "outputs": [],
   "source": [
    "if 200 == response.status_code:\n",
    "    content=response.json()\n",
    "    print(json.dumps(content, indent=4, sort_keys=True))\n",
    "    blobLink=content['manifest']['blobs'][0]['blobLink']\n",
    "    print(blobLink)"
   ]
  },
  {
   "cell_type": "code",
   "execution_count": 6,
   "metadata": {},
   "outputs": [],
   "source": [
    "#Download blob\n",
    "response = requests.get(blobLink)\n",
    "\n",
    "# Write to a csv\n",
    "with open('./local/cost.csv', 'wb') as f:\n",
    "    f.write(response.content)"
   ]
  },
  {
   "cell_type": "code",
   "execution_count": 7,
   "metadata": {},
   "outputs": [
    {
     "name": "stdout",
     "output_type": "stream",
     "text": [
      "                                                                       quantity  costInBillingCurrency\n",
      "location         ProductName                                                                          \n",
      "AU East          Azure OpenAI - gpt-35-turbo-4k-Input-regional -...    0.114000               0.000171\n",
      "                 Azure OpenAI - gpt-35-turbo-4k-Output-regional ...    0.561000               0.001122\n",
      "CA East          Azure OpenAI - gpt-35-turbo-4k-Input-regional -...    0.312000               0.000468\n",
      "                 Azure OpenAI - gpt-35-turbo-4k-Output-regional ...    1.654000               0.003308\n",
      "CH North         Azure OpenAI - gpt-35-turbo-4k-Input-regional -...    0.086000               0.000129\n",
      "...                                                                         ...                    ...\n",
      "US South Central Azure OpenAI - Az-GPT-3.5-turbo                       0.092000               0.000184\n",
      "global           Azure DNS - Private                                   0.709677               0.071505\n",
      "                 Microsoft Defender for Azure Cosmos DB - Standard   168.190875               0.201829\n",
      "                 Microsoft Defender for Key Vault - Standard           0.079900               0.001598\n",
      "                 Microsoft Defender for Resource Manager - Stand...    0.073117               0.292468\n",
      "\n",
      "[111 rows x 2 columns]\n"
     ]
    }
   ],
   "source": [
    "# load csv into pandas and display\n",
    "df = pd.read_csv('./local/cost.csv')\n",
    "# filter where meterSubCategory eq 'Virtual Machines'\n",
    "# df = df[df['meterSubCategory'] == 'Azure OpenAI']\n",
    "# Print the columns meterName, meterSubCategory, usageStart, usageEnd, pretaxCost\n",
    "# print(df[['meterName', 'meterSubCategory', 'ProductName', 'location', 'effectivePrice','quantity','costInBillingCurrency','unitOfMeasure']])\n",
    "# Aggregate the quantity and costInBillingCurrency by meterName,location\n",
    "\n",
    "# print without wrapping\n",
    "pd.set_option('display.expand_frame_repr', False)\n",
    "# print(df.groupby(['location','meterName'])[['quantity','costInBillingCurrency']].sum())\n",
    "print(df.groupby(['location','ProductName'])[['quantity','costInBillingCurrency']].sum())\n",
    "# print(df.head(10))\n"
   ]
  }
 ],
 "metadata": {
  "kernelspec": {
   "display_name": "ai102",
   "language": "python",
   "name": "python3"
  },
  "language_info": {
   "codemirror_mode": {
    "name": "ipython",
    "version": 3
   },
   "file_extension": ".py",
   "mimetype": "text/x-python",
   "name": "python",
   "nbconvert_exporter": "python",
   "pygments_lexer": "ipython3",
   "version": "3.10.9"
  }
 },
 "nbformat": 4,
 "nbformat_minor": 2
}
